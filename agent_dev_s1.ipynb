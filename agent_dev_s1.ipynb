{
 "cells": [
  {
   "cell_type": "code",
   "execution_count": null,
   "id": "ebff1563-0905-427a-89af-6fe5c75c678a",
   "metadata": {},
   "outputs": [],
   "source": [
    "import os\n",
    "from base64 import b64encode\n",
    "from abc_project_vars import DIR_AGENT_PROMPTS\n",
    "from abc_project_vars import PROMPT_FILES\n",
    "from mistralai import Mistral\n",
    "from utilities_io import load_file_as_string"
   ]
  },
  {
   "cell_type": "code",
   "execution_count": 2,
   "id": "72b9ad90",
   "metadata": {},
   "outputs": [],
   "source": [
    "def encode_image(image_path):\n",
    "    \"\"\"Encode the image to base64.\"\"\"\n",
    "    try:\n",
    "        with open(image_path, \"rb\") as image_file:\n",
    "            return b64encode(image_file.read()).decode('utf-8')\n",
    "    except FileNotFoundError:\n",
    "        print(f\"Error: The file {image_path} was not found.\")\n",
    "        return None\n",
    "    except Exception as e:  # Added general exception handling\n",
    "        print(f\"Error: {e}\")\n",
    "        return None"
   ]
  },
  {
   "cell_type": "code",
   "execution_count": 3,
   "id": "a4fea250-cdae-459e-a327-d59809efdb4a",
   "metadata": {},
   "outputs": [],
   "source": [
    "# Setup the API key, client and model\n",
    "api_key = os.environ[\"MISTRAL_API_KEY\"]\n",
    "client  = Mistral(api_key=api_key)\n",
    "model   = \"pixtral-12b-2409\"\n",
    "# Read agent prompt\n",
    "prompt_path = os.path.join( DIR_AGENT_PROMPTS, AGENT_PROMPTS[0])\n",
    "prompt = load_file_as_string(prompt_path)"
   ]
  },
  {
   "cell_type": "code",
   "execution_count": null,
   "id": "cb41f5c4-4585-494d-8f44-6204b4c0bbed",
   "metadata": {},
   "outputs": [],
   "source": [
    "# Path to your image\n",
    "IMAGE_DIR = \"/home/luis/DJI_AGRAS_LATINO/rc/t40_t50/flight/\"\n",
    "# Spray images\n",
    "image_name = \"2023-05-31_09-11-36_i0.jpg\"\n",
    "# image_name = \"2023-09-07_20-38-33_i0.jpg\"\n",
    "# image_name = \"2024-01-11_09-36-34_i0.jpg\"\n",
    "# image_name = \"2023-07-10_14-12-29_i0.jpg\"\n",
    "# image_name = \"2023-07-23_18-29-39_i0.jpg\"\n",
    "# image_name = \"2023-07-25_13-45-14_i0.jpg\"\n",
    "# Prop images\n",
    "# image_name = \"2023-06-13_16-33-59_i0.jpg\"\n",
    "# image_name = \"2023-09-05_07-13-10_i0.jpg\"\n",
    "# Flight images\n",
    "# image_name = \"2023-07-22_10-22-35_i0.jpg\"\n",
    "# image_name = \"2023-07-25_11-08-08_i0.jpg\"\n",
    "# image_name = \"2023-08-23_11-05-18_i0.jpg\"\n",
    "# image_name = \"2023-08-26_11-53-42_i0.jpg\""
   ]
  },
  {
   "cell_type": "code",
   "execution_count": 33,
   "id": "b26f8548-af24-4a49-9f35-43ef6d087895",
   "metadata": {},
   "outputs": [
    {
     "name": "stdout",
     "output_type": "stream",
     "text": [
      "```json\n",
      "{\n",
      "    \"metadata\": {\n",
      "        \"language\": \"Spanish\",\n",
      "        \"num_msg\": 4\n",
      "    },\n",
      "    \"data\": [\n",
      "        \"Rociado/Área atrapado en el tubo\",\n",
      "        \"Error del sistema de electrónica aérea\",\n",
      "        \"Error del sistema de electrónica aérea\",\n",
      "        \"Error del sistema de electrónica aérea\",\n",
      "        \"Error de comunicación interna de radar II\"\n",
      "    ]\n",
      "}\n",
      "```\n"
     ]
    }
   ],
   "source": [
    "# Encode image as base64\n",
    "base64_image = encode_image(IMAGE_DIR + image_name)\n",
    "# Define the messages for the chat\n",
    "messages = [\n",
    "    {\n",
    "        \"role\": \"user\",\n",
    "        \"content\": [\n",
    "            {\n",
    "                \"type\": \"text\",\n",
    "                \"text\": prompt\n",
    "            },\n",
    "            {\n",
    "                \"type\": \"image_url\",\n",
    "                \"image_url\": f\"data:image/jpeg;base64,{base64_image}\" \n",
    "            }\n",
    "        ]\n",
    "    }\n",
    "]\n",
    "# Get the chat response\n",
    "try:\n",
    "    chat_response = client.chat.complete(\n",
    "        model=model,\n",
    "        messages=messages # type: ignore\n",
    "    )\n",
    "    if chat_response and chat_response.choices:\n",
    "        # Print the content of the response\n",
    "        extracted_errors = str(chat_response.choices[0].message.content)\n",
    "        print(extracted_errors)\n",
    "    else:\n",
    "        print(\"No response received from the API\")   \n",
    "except Exception as e:\n",
    "    print(f\"Error calling API: {e}\")"
   ]
  },
  {
   "cell_type": "code",
   "execution_count": 34,
   "id": "805bfda2",
   "metadata": {},
   "outputs": [
    {
     "name": "stdout",
     "output_type": "stream",
     "text": [
      "Language: Spanish\n",
      "Number of messages: 4\n",
      "Rociado/Área atrapado en el tubo\n",
      "Error del sistema de electrónica aérea\n",
      "Error del sistema de electrónica aérea\n",
      "Error del sistema de electrónica aérea\n",
      "Error de comunicación interna de radar II\n"
     ]
    }
   ],
   "source": [
    "from utilities_io import load_json_string\n",
    "error_obj = load_json_string(extracted_errors)\n",
    "language = error_obj['metadata']['language']\n",
    "num_msg  = error_obj['metadata']['num_msg']\n",
    "print(f\"Language: {language}\")\n",
    "print(f\"Number of messages: {num_msg}\")\n",
    "\n",
    "if error_obj['data'] :\n",
    "    for msg in error_obj['data']:\n",
    "        print(msg)"
   ]
  },
  {
   "cell_type": "code",
   "execution_count": 35,
   "id": "cf9aeca9",
   "metadata": {},
   "outputs": [],
   "source": [
    "from utilities_io import save_json_file\n",
    "fname = 'stage_1_results/' + image_name.replace(\".jpg\", \".json\")\n",
    "save_json_file( fname, error_obj)"
   ]
  }
 ],
 "metadata": {
  "kernelspec": {
   "display_name": "pe",
   "language": "python",
   "name": "python3"
  },
  "language_info": {
   "codemirror_mode": {
    "name": "ipython",
    "version": 3
   },
   "file_extension": ".py",
   "mimetype": "text/x-python",
   "name": "python",
   "nbconvert_exporter": "python",
   "pygments_lexer": "ipython3",
   "version": "3.12.3"
  }
 },
 "nbformat": 4,
 "nbformat_minor": 5
}
